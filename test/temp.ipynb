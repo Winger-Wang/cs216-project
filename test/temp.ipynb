{
 "cells": [
  {
   "cell_type": "code",
   "execution_count": 2,
   "metadata": {},
   "outputs": [],
   "source": [
    "import numpy as np\n",
    "import pandas as pd\n",
    "import requests\n",
    "import bs4\n",
    "import lxml.etree as xml\n",
    "import json\n",
    "import time\n",
    "import csv\n"
   ]
  },
  {
   "cell_type": "code",
   "execution_count": 3,
   "metadata": {},
   "outputs": [],
   "source": [
    "\n",
    "cuky = {\"cookie\":\"a7e650d9%2C1682628083%2C7a5b8%2Aa2\"}\n",
    "url = \"http://api.bilibili.com/x/web-interface/view/detail?aid={}\"  \n",
    "loc = '{}.json'\n",
    "\n"
   ]
  },
  {
   "cell_type": "markdown",
   "metadata": {},
   "source": [
    "## Setting Test"
   ]
  },
  {
   "cell_type": "code",
   "execution_count": 5,
   "metadata": {},
   "outputs": [
    {
     "name": "stdout",
     "output_type": "stream",
     "text": [
      "<Response [412]>\n"
     ]
    },
    {
     "data": {
      "text/plain": [
       "True"
      ]
     },
     "execution_count": 5,
     "metadata": {},
     "output_type": "execute_result"
    }
   ],
   "source": [
    "data = requests.get(url.format(str(179013)))\n",
    "\n",
    "\n",
    "print(data)\n",
    "\n",
    "data.json()['code'] == -412"
   ]
  },
  {
   "cell_type": "code",
   "execution_count": 6,
   "metadata": {},
   "outputs": [
    {
     "data": {
      "text/plain": [
       "{'code': -412, 'message': '请求被拦截', 'ttl': 1, 'data': None}"
      ]
     },
     "execution_count": 6,
     "metadata": {},
     "output_type": "execute_result"
    }
   ],
   "source": [
    "data.json()"
   ]
  },
  {
   "cell_type": "code",
   "execution_count": 30,
   "metadata": {},
   "outputs": [
    {
     "data": {
      "text/plain": [
       "0"
      ]
     },
     "execution_count": 30,
     "metadata": {},
     "output_type": "execute_result"
    }
   ],
   "source": [
    "data = requests.get(url.format(str(170001)))\n",
    "\n",
    "data.json()['code']"
   ]
  },
  {
   "cell_type": "code",
   "execution_count": 27,
   "metadata": {},
   "outputs": [],
   "source": [
    "data = requests.get(url.format(str(170001)))\n",
    "\n",
    "download = json.dumps(data.json())\n",
    "\n",
    "file = open(loc.format(str(170001)), 'w')\n",
    "\n",
    "file.write(download)\n",
    "\n",
    "file.close()"
   ]
  },
  {
   "cell_type": "markdown",
   "metadata": {},
   "source": [
    "## Speed Test"
   ]
  },
  {
   "cell_type": "code",
   "execution_count": 1,
   "metadata": {},
   "outputs": [],
   "source": [
    "cuky = {\"cookie\":\"a7e650d9%2C1682628083%2C7a5b8%2Aa2\"}\n",
    "url = \"http://api.bilibili.com/x/web-interface/view/detail?aid={}\"  \n",
    "loc = 'test_data_170000/{}.json'"
   ]
  },
  {
   "cell_type": "code",
   "execution_count": 15,
   "metadata": {},
   "outputs": [
    {
     "name": "stdout",
     "output_type": "stream",
     "text": [
      "data: 10\n",
      "time use: 3.884587526321411\n",
      "ave: 0.38845875263214114\n"
     ]
    }
   ],
   "source": [
    "time_start=time.time()\n",
    "\n",
    "start = 160000\n",
    "\n",
    "end = 160010\n",
    "\n",
    "for i in range(start,end):\n",
    "\n",
    "  data = requests.get(url.format(str(i)))\n",
    "\n",
    "  download = json.dumps(data.json())\n",
    "\n",
    "  file = open(loc.format(str(i)), 'w')\n",
    "\n",
    "  file.write(download)\n",
    "\n",
    "  file.close()\n",
    "        \n",
    "time_use = time.time() -time_start\n",
    "print(\"data: \" + str(end-start))  \n",
    "print(\"time use: \" + str(time_use))\n",
    "print(\"ave: \"+ str(time_use/(end-start)))"
   ]
  },
  {
   "cell_type": "code",
   "execution_count": null,
   "metadata": {},
   "outputs": [],
   "source": [
    "\n",
    "cuky = {\"cookie\":\"a7e650d9%2C1682628083%2C7a5b8%2Aa2\"}\n",
    "url = \"http://api.bilibili.com/x/web-interface/view/detail?aid={}\"  \n",
    "loc = 'test_data_170000/{}.json'"
   ]
  },
  {
   "cell_type": "code",
   "execution_count": 31,
   "metadata": {},
   "outputs": [
    {
     "name": "stdout",
     "output_type": "stream",
     "text": [
      "169001\n",
      "time use: 0.6746723651885986\n",
      "ave: 0.6746723651885986\n",
      "169101\n",
      "time use: 42.857216119766235\n",
      "ave: 0.42432887247293305\n",
      "169201\n",
      "time use: 81.51601386070251\n",
      "ave: 0.40555230776468915\n",
      "169301\n",
      "time use: 123.62830948829651\n",
      "ave: 0.41072528069201497\n",
      "169401\n",
      "time use: 163.21803402900696\n",
      "ave: 0.4070275162818129\n",
      "169501\n",
      "time use: 206.85751938819885\n",
      "ave: 0.41288926025588596\n",
      "169601\n",
      "time use: 252.2123737335205\n",
      "ave: 0.41965453200252995\n",
      "169701\n",
      "time use: 299.93605160713196\n",
      "ave: 0.4278688325351383\n",
      "169801\n",
      "time use: 347.1139099597931\n",
      "ave: 0.4333506990758965\n",
      "169901\n",
      "time use: 386.2271194458008\n",
      "ave: 0.4286649494404004\n",
      "170001\n",
      "time use: 423.44081592559814\n",
      "ave: 0.4230177981274707\n",
      "170101\n",
      "time use: 463.2111325263977\n",
      "ave: 0.4207185581529498\n",
      "170201\n",
      "time use: 505.1686215400696\n",
      "ave: 0.4206233318401912\n",
      "170301\n",
      "time use: 543.2678763866425\n",
      "ave: 0.4175771532564508\n",
      "170401\n",
      "time use: 588.8200767040253\n",
      "ave: 0.42028556509923287\n",
      "170501\n",
      "time use: 633.1012642383575\n",
      "ave: 0.4217863186131629\n",
      "170601\n",
      "time use: 679.5761315822601\n",
      "ave: 0.42446978862102447\n",
      "170701\n",
      "time use: 723.6109266281128\n",
      "ave: 0.42540324904650956\n",
      "170801\n",
      "time use: 766.1244180202484\n",
      "ave: 0.4253883498169064\n",
      "170901\n",
      "time use: 808.6868715286255\n",
      "ave: 0.42540077408133903\n"
     ]
    }
   ],
   "source": [
    "time_start=time.time()\n",
    "\n",
    "for i in range(170000,180000):\n",
    "\n",
    "  data = requests.get(url.format(str(i)))\n",
    "  \n",
    "\n",
    "\n",
    "  # download = json.dumps(data.json())\n",
    "\n",
    "  # file = open(loc.format(str(i)), 'w')\n",
    "\n",
    "  # file.write(download)\n",
    "\n",
    "  # file.close()\n",
    "  \n",
    "  if i%100 == 1:\n",
    "        \n",
    "    time_use = time.time() -time_start\n",
    "    \n",
    "    print(str(i))\n",
    "    print(\"time use: \" + str(time_use))\n",
    "    print(\"ave: \"+ time_use/(i-170000))"
   ]
  },
  {
   "cell_type": "markdown",
   "metadata": {},
   "source": [
    "### Conclusion:\n",
    "- Total time: 14 min 14.6 sec\n",
    "- Average time: 0.4255 second per data"
   ]
  },
  {
   "cell_type": "markdown",
   "metadata": {},
   "source": [
    "## Multiple process"
   ]
  },
  {
   "cell_type": "code",
   "execution_count": 35,
   "metadata": {},
   "outputs": [],
   "source": [
    "def spider_0 (url,filename):\n",
    "    \n",
    "    r = requests.get(url)\n",
    "    \n",
    "    data = json.dumps(r.json())\n",
    "\n",
    "    # file = open(filename, 'w')\n",
    "\n",
    "    # file.write(data)\n",
    "\n",
    "    # file.close()\n",
    "    \n",
    "    if (video['code'] == 412):\n",
    "            \n",
    "        raise ValueError(\"CODE 412\")"
   ]
  },
  {
   "cell_type": "code",
   "execution_count": 36,
   "metadata": {},
   "outputs": [],
   "source": [
    "\n",
    "cuky = {\"cookie\":\"a7e650d9%2C1682628083%2C7a5b8%2Aa2\"}\n",
    "url = \"http://api.bilibili.com/x/web-interface/view/detail?aid={}\"  \n",
    "loc = 'test_data_160000/{}.json'"
   ]
  },
  {
   "cell_type": "code",
   "execution_count": 7,
   "metadata": {},
   "outputs": [
    {
     "ename": "NameError",
     "evalue": "name 'spider_0' is not defined",
     "output_type": "error",
     "traceback": [
      "\u001b[0;31m---------------------------------------------------------------------------\u001b[0m",
      "\u001b[0;31mNameError\u001b[0m                                 Traceback (most recent call last)",
      "Cell \u001b[0;32mIn [7], line 13\u001b[0m\n\u001b[1;32m      9\u001b[0m threads \u001b[39m=\u001b[39m []\n\u001b[1;32m     11\u001b[0m \u001b[39mfor\u001b[39;00m i \u001b[39min\u001b[39;00m \u001b[39mrange\u001b[39m (start,end):\n\u001b[0;32m---> 13\u001b[0m     threads\u001b[39m.\u001b[39mappend(threading\u001b[39m.\u001b[39mThread(target\u001b[39m=\u001b[39mspider_0, args\u001b[39m=\u001b[39m(url\u001b[39m.\u001b[39mformat(\u001b[39mstr\u001b[39m(i)),loc\u001b[39m.\u001b[39mformat(\u001b[39mstr\u001b[39m(i)))))\n\u001b[1;32m     15\u001b[0m \u001b[39mfor\u001b[39;00m thread \u001b[39min\u001b[39;00m threads:\n\u001b[1;32m     17\u001b[0m     thread\u001b[39m.\u001b[39mstart()\n",
      "\u001b[0;31mNameError\u001b[0m: name 'spider_0' is not defined"
     ]
    }
   ],
   "source": [
    "import threading\n",
    "\n",
    "time_start=time.time()\n",
    "\n",
    "start = 160000\n",
    "\n",
    "end = 165000\n",
    "\n",
    "threads = []\n",
    "\n",
    "for i in range (start,end):\n",
    "    \n",
    "    threads.append(threading.Thread(target=spider_0, args=(url.format(str(i)),loc.format(str(i)))))\n",
    "    \n",
    "for thread in threads:\n",
    "    \n",
    "    thread.start()\n",
    "    \n",
    "for thread in threads:\n",
    "    \n",
    "    thread.join()\n",
    "    \n",
    "    \n",
    "time_use = time.time() -time_start  \n",
    "print(\"time use: \" + str(time_use))\n",
    "print(\"ave: \"+ str(time_use/(end-start)))"
   ]
  },
  {
   "cell_type": "markdown",
   "metadata": {},
   "source": [
    "## 170001 AS example to explore json file"
   ]
  },
  {
   "cell_type": "code",
   "execution_count": 2,
   "metadata": {},
   "outputs": [],
   "source": [
    "import json\n",
    "with open(\"170001.json\", encoding=\"gbk\") as f:\n",
    "    labels = json.load(f)"
   ]
  },
  {
   "cell_type": "code",
   "execution_count": 3,
   "metadata": {},
   "outputs": [],
   "source": [
    "def discourt(labels):\n",
    "    \n",
    "    datas = labels[\"data\"]\n",
    "    for data in datas:\n",
    "        print(data)"
   ]
  },
  {
   "cell_type": "code",
   "execution_count": 4,
   "metadata": {},
   "outputs": [
    {
     "name": "stdout",
     "output_type": "stream",
     "text": [
      "View\n",
      "Card\n",
      "Tags\n",
      "Reply\n",
      "Related\n",
      "Spec\n",
      "hot_share\n",
      "elec\n",
      "recommend\n",
      "view_addit\n",
      "guide\n"
     ]
    }
   ],
   "source": [
    "if labels[\"code\"] == 0:\n",
    "    discourt(labels)\n",
    "    \n",
    "\n",
    "    "
   ]
  },
  {
   "cell_type": "code",
   "execution_count": 6,
   "metadata": {},
   "outputs": [
    {
     "name": "stdout",
     "output_type": "stream",
     "text": [
      "{'tag_id': 117552, 'tag_name': '保加利亚妖王', 'cover': 'http://i0.hdslb.com/bfs/tag/6828dc0fe5037e1c483d55704f529135d961cb2b.jpg', 'head_cover': '', 'content': '\\u3000\\u3000保加利亚超级天王 Azis\\r\\n\\u3000\\u3000Azis生于1978年3月7日，1999年正式出道。他的音乐融合保加利亚名族曲风chalga和pop、rap等元素，不过他惊艳的易装秀与浮夸的角色诠释才是他最为出名的地方。', 'short_content': '', 'type': 3, 'state': 0, 'ctime': 1436866637, 'count': {'view': 0, 'use': 9071, 'atten': 5564}, 'is_atten': 0, 'likes': 1161, 'hates': 0, 'attribute': 1, 'liked': 0, 'hated': 0, 'extra_attr': 0, 'music_id': '', 'tag_type': 'old_channel', 'is_activity': False, 'color': '', 'alpha': 0, 'is_season': False, 'subscribed_count': 5564, 'archive_count': '-', 'featured_count': 0, 'jump_url': ''}\n",
      "{'tag_id': 112503, 'tag_name': '保加利亚', 'cover': '', 'head_cover': '', 'content': '', 'short_content': '', 'type': 0, 'state': 0, 'ctime': 1436866637, 'count': {'view': 0, 'use': 5522, 'atten': 161}, 'is_atten': 0, 'likes': 645, 'hates': 0, 'attribute': 1, 'liked': 0, 'hated': 0, 'extra_attr': 0, 'music_id': '', 'tag_type': 'old_channel', 'is_activity': False, 'color': '', 'alpha': 0, 'is_season': False, 'subscribed_count': 161, 'archive_count': '-', 'featured_count': 0, 'jump_url': ''}\n",
      "{'tag_id': 2958988, 'tag_name': 'Азис', 'cover': '', 'head_cover': '', 'content': '', 'short_content': '', 'type': 1, 'state': 0, 'ctime': 1482071386, 'count': {'view': 0, 'use': 37, 'atten': 59}, 'is_atten': 0, 'likes': 485, 'hates': 0, 'attribute': 1, 'liked': 0, 'hated': 0, 'extra_attr': 0, 'music_id': '', 'tag_type': 'old_channel', 'is_activity': False, 'color': '', 'alpha': 0, 'is_season': False, 'subscribed_count': 59, 'archive_count': '-', 'featured_count': 0, 'jump_url': ''}\n",
      "{'tag_id': 2622213, 'tag_name': 'azis', 'cover': '', 'head_cover': '', 'content': '', 'short_content': '', 'type': 0, 'state': 0, 'ctime': 1473763704, 'count': {'view': 0, 'use': 278, 'atten': 86}, 'is_atten': 0, 'likes': 420, 'hates': 0, 'attribute': 1, 'liked': 0, 'hated': 0, 'extra_attr': 0, 'music_id': '', 'tag_type': 'old_channel', 'is_activity': False, 'color': '', 'alpha': 0, 'is_season': False, 'subscribed_count': 86, 'archive_count': '-', 'featured_count': 0, 'jump_url': ''}\n",
      "{'tag_id': 2512079, 'tag_name': 'mv', 'cover': '', 'head_cover': '', 'content': '', 'short_content': '', 'type': 0, 'state': 0, 'ctime': 1471434073, 'count': {'view': 0, 'use': 75290, 'atten': 282}, 'is_atten': 0, 'likes': 384, 'hates': 0, 'attribute': 1, 'liked': 0, 'hated': 0, 'extra_attr': 0, 'music_id': '', 'tag_type': 'old_channel', 'is_activity': False, 'color': '', 'alpha': 0, 'is_season': False, 'subscribed_count': 282, 'archive_count': '-', 'featured_count': 0, 'jump_url': ''}\n"
     ]
    }
   ],
   "source": [
    "tags = labels[\"data\"][\"Tags\"]\n",
    "\n",
    "for tag in tags:\n",
    "    print(tag)\n",
    "    \n"
   ]
  },
  {
   "cell_type": "code",
   "execution_count": 21,
   "metadata": {},
   "outputs": [
    {
     "ename": "TypeError",
     "evalue": "unsupported operand type(s) for +: 'dict_values' and 'str'",
     "output_type": "error",
     "traceback": [
      "\u001b[1;31m---------------------------------------------------------------------------\u001b[0m",
      "\u001b[1;31mTypeError\u001b[0m                                 Traceback (most recent call last)",
      "\u001b[1;32md:\\File\\cs216-project\\test\\temp.ipynb Cell 20\u001b[0m in \u001b[0;36m<cell line: 1>\u001b[1;34m()\u001b[0m\n\u001b[1;32m----> <a href='vscode-notebook-cell:/d%3A/File/cs216-project/test/temp.ipynb#X32sZmlsZQ%3D%3D?line=0'>1</a>\u001b[0m \u001b[39mtype\u001b[39m(tags[\u001b[39m0\u001b[39;49m]\u001b[39m.\u001b[39;49mvalues()\u001b[39m+\u001b[39;49m\u001b[39m'\u001b[39;49m\u001b[39m170001\u001b[39;49m\u001b[39m'\u001b[39;49m)\n",
      "\u001b[1;31mTypeError\u001b[0m: unsupported operand type(s) for +: 'dict_values' and 'str'"
     ]
    }
   ],
   "source": [
    "type(tags[0].values())"
   ]
  },
  {
   "cell_type": "code",
   "execution_count": 13,
   "metadata": {},
   "outputs": [
    {
     "name": "stdout",
     "output_type": "stream",
     "text": [
      "The content of the csv file is:\n",
      "aid,tag_id,tag_name,cover,head_cover,content,short_content,type,state,ctime,count,is_atten,likes,hates,attribute,liked,hated,extra_attr,music_id,tag_type,is_activity,color,alpha,is_season,subscribed_count,archive_count,featured_count,jump_url\n",
      "\n",
      "117552,保加利亚妖王,http://i0.hdslb.com/bfs/tag/6828dc0fe5037e1c483d55704f529135d961cb2b.jpg,,\"　　保加利亚超级天王 Azis\n",
      "\n",
      "　　Azis生于1978年3月7日，1999年正式出道。他的音乐融合保加利亚名族曲风chalga和pop、rap等元素，不过他惊艳的易装秀与浮夸的角色诠释才是他最为出名的地方。\",,3,0,1436866637,\"{'view': 0, 'use': 9071, 'atten': 5564}\",0,1161,0,1,0,0,0,,old_channel,False,,0,False,5564,-,0,,170001\n",
      "\n",
      "112503,保加利亚,,,,,0,0,1436866637,\"{'view': 0, 'use': 5522, 'atten': 161}\",0,645,0,1,0,0,0,,old_channel,False,,0,False,161,-,0,,170001\n",
      "\n",
      "2958988,Азис,,,,,1,0,1482071386,\"{'view': 0, 'use': 37, 'atten': 59}\",0,485,0,1,0,0,0,,old_channel,False,,0,False,59,-,0,,170001\n",
      "\n",
      "2622213,azis,,,,,0,0,1473763704,\"{'view': 0, 'use': 278, 'atten': 86}\",0,420,0,1,0,0,0,,old_channel,False,,0,False,86,-,0,,170001\n",
      "\n",
      "2512079,mv,,,,,0,0,1471434073,\"{'view': 0, 'use': 75290, 'atten': 282}\",0,384,0,1,0,0,0,,old_channel,False,,0,False,282,-,0,,170001\n",
      "\n",
      "\n"
     ]
    }
   ],
   "source": [
    "aid = '170001'\n",
    "myFile = open('170001.csv', 'w')\n",
    "\n",
    "writer = csv.writer(myFile)\n",
    "writer.writerow(['aid','tag_id', 'tag_name', 'cover','head_cover','content','short_content',\n",
    "                 'type','state','ctime','count','is_atten','likes','hates','attribute',\n",
    "                 'liked','hated','extra_attr','music_id','tag_type','is_activity','color',\n",
    "                 'alpha','is_season','subscribed_count','archive_count','featured_count',\n",
    "                 'jump_url'])\n",
    "for tag in tags:\n",
    "    \n",
    "    tag[\"aid\"] = aid\n",
    "    \n",
    "    writer.writerow(tag.values())\n",
    "    \n",
    "myFile.close()\n",
    "\n",
    "myFile = open('170001.csv', 'r')\n",
    "\n",
    "print(\"The content of the csv file is:\")\n",
    "print(myFile.read())\n",
    "\n",
    "myFile.close()"
   ]
  },
  {
   "cell_type": "code",
   "execution_count": 58,
   "metadata": {},
   "outputs": [
    {
     "name": "stdout",
     "output_type": "stream",
     "text": [
      "Opened database successfully\n",
      "Table created successfully\n"
     ]
    }
   ],
   "source": [
    "import sqlite3\n",
    "import json\n",
    " \n",
    "conn = sqlite3.connect('170001.db')\n",
    "\n",
    "print (\"Opened database successfully\")\n",
    "\n",
    "conn.execute('''CREATE TABLE TAGS\n",
    "         (AID INT     NOT NULL,\n",
    "         TAGID          INT   NOT NULL,\n",
    "         TAGNAME            TEXT     NOT NULL,\n",
    "         CONTENT        TEXT,\n",
    "         CTIME         INT);''')\n",
    "\n",
    "print (\"Table created successfully\")\n",
    "\n",
    "conn.close()"
   ]
  },
  {
   "cell_type": "code",
   "execution_count": null,
   "metadata": {},
   "outputs": [],
   "source": []
  },
  {
   "cell_type": "code",
   "execution_count": 8,
   "metadata": {},
   "outputs": [
    {
     "ename": "NameError",
     "evalue": "name 'sqlite3' is not defined",
     "output_type": "error",
     "traceback": [
      "\u001b[1;31m---------------------------------------------------------------------------\u001b[0m",
      "\u001b[1;31mNameError\u001b[0m                                 Traceback (most recent call last)",
      "\u001b[1;32md:\\File\\cs216-project\\test\\temp.ipynb Cell 21\u001b[0m in \u001b[0;36m<cell line: 1>\u001b[1;34m()\u001b[0m\n\u001b[1;32m----> <a href='vscode-notebook-cell:/d%3A/File/cs216-project/test/temp.ipynb#X26sZmlsZQ%3D%3D?line=0'>1</a>\u001b[0m conn \u001b[39m=\u001b[39m sqlite3\u001b[39m.\u001b[39mconnect(\u001b[39m'\u001b[39m\u001b[39m170001.db\u001b[39m\u001b[39m'\u001b[39m)\n\u001b[0;32m      <a href='vscode-notebook-cell:/d%3A/File/cs216-project/test/temp.ipynb#X26sZmlsZQ%3D%3D?line=2'>3</a>\u001b[0m conn\u001b[39m.\u001b[39mexecute(\u001b[39m'''\u001b[39m\u001b[39m \u001b[39m\n\u001b[0;32m      <a href='vscode-notebook-cell:/d%3A/File/cs216-project/test/temp.ipynb#X26sZmlsZQ%3D%3D?line=3'>4</a>\u001b[0m \u001b[39m    load data infile \u001b[39m\u001b[39m'\u001b[39m\u001b[39m170001.csv\u001b[39m\u001b[39m'\u001b[39m\n\u001b[0;32m      <a href='vscode-notebook-cell:/d%3A/File/cs216-project/test/temp.ipynb#X26sZmlsZQ%3D%3D?line=4'>5</a>\u001b[0m \u001b[39m    into table TAGS\u001b[39m\n\u001b[0;32m      <a href='vscode-notebook-cell:/d%3A/File/cs216-project/test/temp.ipynb#X26sZmlsZQ%3D%3D?line=5'>6</a>\u001b[0m \u001b[39m    FIELDS TERMINATED BY \u001b[39m\u001b[39m'\u001b[39m\u001b[39m,\u001b[39m\u001b[39m'\u001b[39m\n\u001b[0;32m      <a href='vscode-notebook-cell:/d%3A/File/cs216-project/test/temp.ipynb#X26sZmlsZQ%3D%3D?line=6'>7</a>\u001b[0m \u001b[39m    ENCLOSED BY \u001b[39m\u001b[39m'\u001b[39m\u001b[39m\"\u001b[39m\u001b[39m'\u001b[39m\u001b[39m; \u001b[39m\u001b[39m'''\u001b[39m)\n\u001b[0;32m      <a href='vscode-notebook-cell:/d%3A/File/cs216-project/test/temp.ipynb#X26sZmlsZQ%3D%3D?line=8'>9</a>\u001b[0m conn\u001b[39m.\u001b[39mclose()\n",
      "\u001b[1;31mNameError\u001b[0m: name 'sqlite3' is not defined"
     ]
    }
   ],
   "source": [
    "conn = sqlite3.connect('170001.db')\n",
    "\n",
    "conn.execute(''' \n",
    "    load data infile '170001.csv'\n",
    "    into table TAGS\n",
    "    FIELDS TERMINATED BY ','\n",
    "    ENCLOSED BY '\"'; ''')\n",
    "\n",
    "conn.close()"
   ]
  },
  {
   "cell_type": "code",
   "execution_count": null,
   "metadata": {},
   "outputs": [],
   "source": [
    "r = requests.get(url)\n"
   ]
  },
  {
   "cell_type": "code",
   "execution_count": null,
   "metadata": {},
   "outputs": [],
   "source": [
    " myFile = open(\"fuck\", 'w')\n",
    " myFile.close()"
   ]
  }
 ],
 "metadata": {
  "kernelspec": {
   "display_name": "Python 3.10.6 64-bit",
   "language": "python",
   "name": "python3"
  },
  "language_info": {
   "codemirror_mode": {
    "name": "ipython",
    "version": 3
   },
   "file_extension": ".py",
   "mimetype": "text/x-python",
   "name": "python",
   "nbconvert_exporter": "python",
   "pygments_lexer": "ipython3",
   "version": "3.10.6"
  },
  "orig_nbformat": 4,
  "vscode": {
   "interpreter": {
    "hash": "e7370f93d1d0cde622a1f8e1c04877d8463912d04d973331ad4851f04de6915a"
   }
  }
 },
 "nbformat": 4,
 "nbformat_minor": 2
}
